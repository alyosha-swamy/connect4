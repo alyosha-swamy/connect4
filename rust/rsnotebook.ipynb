{
 "cells": [
  {
   "cell_type": "code",
   "execution_count": 2,
   "metadata": {
    "vscode": {
     "languageId": "rust"
    }
   },
   "outputs": [
    {
     "ename": "Error",
     "evalue": "unresolved import `connect4`",
     "output_type": "error",
     "traceback": [
      "\u001b[31m[E0432] Error:\u001b[0m unresolved import `connect4`"
     ]
    },
    {
     "ename": "Error",
     "evalue": "unresolved import `connect4`",
     "output_type": "error",
     "traceback": [
      "\u001b[31m[E0432] Error:\u001b[0m unresolved import `connect4`"
     ]
    },
    {
     "ename": "Error",
     "evalue": "unresolved import `connect4`",
     "output_type": "error",
     "traceback": [
      "\u001b[31m[E0432] Error:\u001b[0m unresolved import `connect4`"
     ]
    }
   ],
   "source": [
    ":dep connect4 = { path = \".\" }\n",
    "\n",
    "use connect4::env;\n",
    "use connect4::network;\n",
    "use connect4::player;\n",
    "\n",
    "const BOARD_XSIZE:usize = 7;\n",
    "const BOARD_YSIZE:usize = 6;\n",
    "\n",
    "let EPISODES_PER_AGENT = 50;\n",
    "let TRAIN_EPOCHS = 1000;\n",
    "let MODEL_SAVE_INTERVAL = 100;\n",
    "let MAKE_OPPONENT_INTERVAL = 1000;\n",
    "let SUMMARY_STATS_INTERVAL = 10;\n",
    "let RANDOM_SEED = 42;\n",
    "\n",
    "let SUMMARY_DIR = \"./summary\";\n",
    "let MODEL_DIR = \"./models\";\n",
    "\n",
    "std::fs::create_dir_all(SUMMARY_DIR)?;\n",
    "std::fs::create_dir_all(MODEL_DIR)?;"
   ]
  },
  {
   "cell_type": "code",
   "execution_count": 15,
   "metadata": {
    "vscode": {
     "languageId": "rust"
    }
   },
   "outputs": [
    {
     "ename": "Error",
     "evalue": "unresolved import `connect4::tch`",
     "output_type": "error",
     "traceback": [
      "\u001b[31m[E0432] Error:\u001b[0m unresolved import `connect4::tch`"
     ]
    }
   ],
   "source": [
    "use connect4::tch;\n",
    "\n",
    "let x = tch::Device::cuda_if_available();"
   ]
  },
  {
   "cell_type": "code",
   "execution_count": 7,
   "metadata": {
    "vscode": {
     "languageId": "rust"
    }
   },
   "outputs": [
    {
     "name": "stdout",
     "output_type": "stream",
     "text": [
      "hi\n"
     ]
    },
    {
     "data": {
      "text/plain": [
       "()"
      ]
     },
     "execution_count": 7,
     "metadata": {},
     "output_type": "execute_result"
    }
   ],
   "source": [
    "println!(\"hi\")"
   ]
  }
 ],
 "metadata": {
  "kernelspec": {
   "display_name": "Rust",
   "language": "rust",
   "name": "rust"
  },
  "language_info": {
   "codemirror_mode": "rust",
   "file_extension": ".rs",
   "mimetype": "text/rust",
   "name": "Rust",
   "pygment_lexer": "rust",
   "version": ""
  },
  "orig_nbformat": 4
 },
 "nbformat": 4,
 "nbformat_minor": 2
}
