{
 "cells": [
  {
   "cell_type": "code",
   "execution_count": 2,
   "metadata": {},
   "outputs": [],
   "source": [
    "import numpy as np\n",
    "\n",
    "%load_ext autoreload\n",
    "%autoreload 2\n",
    "import env\n",
    "import player\n"
   ]
  },
  {
   "cell_type": "code",
   "execution_count": 3,
   "metadata": {},
   "outputs": [],
   "source": [
    "BOARD_XSIZE=7\n",
    "BOARD_YSIZE=6\n",
    "DIMS=(BOARD_YSIZE,BOARD_XSIZE)\n",
    "e = env.Env(DIMS)"
   ]
  },
  {
   "cell_type": "code",
   "execution_count": 4,
   "metadata": {},
   "outputs": [
    {
     "name": "stdout",
     "output_type": "stream",
     "text": [
      "              \n",
      "              \n",
      "              \n",
      "              \n",
      "              \n",
      "              \n",
      "\n",
      "0 1 2 3 4 5 6\n",
      "legal mask: [ True  True  True  True  True  True  True]\n",
      "              \n",
      "              \n",
      "              \n",
      "              \n",
      "              \n",
      "#         O   \n",
      "\n",
      "0 1 2 3 4 5 6\n",
      "legal mask: [ True  True  True  True  True  True  True]\n",
      "              \n",
      "              \n",
      "              \n",
      "              \n",
      "              \n",
      "# #   O   O   \n",
      "\n",
      "0 1 2 3 4 5 6\n",
      "legal mask: [ True  True  True  True  True  True  True]\n",
      "              \n",
      "              \n",
      "              \n",
      "              \n",
      "O #           \n",
      "# #   O   O   \n",
      "\n",
      "0 1 2 3 4 5 6\n",
      "legal mask: [ True  True  True  True  True  True  True]\n",
      "              \n",
      "              \n",
      "              \n",
      "  #           \n",
      "O #           \n",
      "# # O O   O   \n",
      "\n",
      "0 1 2 3 4 5 6\n",
      "legal mask: [ True  True  True  True  True  True  True]\n",
      "You win!\n"
     ]
    }
   ],
   "source": [
    "actor_turn = True\n",
    "actor = player.HumanPlayer(env.PLAYER1)\n",
    "opponent = player.RandomPlayer(env.PLAYER2)\n",
    "\n",
    "while not e.game_over():\n",
    "    if actor_turn:\n",
    "        obs, action_probs, chosen_action, reward = actor.play(e)\n",
    "    else:\n",
    "        opponent.play(e)\n",
    "    # flip turn\n",
    "    actor_turn = not actor_turn\n",
    "\n",
    "if e.winner() == env.PLAYER1:\n",
    "    print(\"You win!\")\n",
    "elif e.winner() == env.PLAYER2:\n",
    "    print(\"You lose!\")\n",
    "else:\n",
    "    print(\"Draw!\")"
   ]
  }
 ],
 "metadata": {
  "kernelspec": {
   "display_name": "Python 3",
   "language": "python",
   "name": "python3"
  },
  "language_info": {
   "codemirror_mode": {
    "name": "ipython",
    "version": 3
   },
   "file_extension": ".py",
   "mimetype": "text/x-python",
   "name": "python",
   "nbconvert_exporter": "python",
   "pygments_lexer": "ipython3",
   "version": "3.10.10"
  },
  "orig_nbformat": 4,
  "vscode": {
   "interpreter": {
    "hash": "e7370f93d1d0cde622a1f8e1c04877d8463912d04d973331ad4851f04de6915a"
   }
  }
 },
 "nbformat": 4,
 "nbformat_minor": 2
}
